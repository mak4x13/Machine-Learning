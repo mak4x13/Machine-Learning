{
  "nbformat": 4,
  "nbformat_minor": 0,
  "metadata": {
    "colab": {
      "provenance": [],
      "authorship_tag": "ABX9TyOrdf4Ov0GEe2yZWnalZqkx",
      "include_colab_link": true
    },
    "kernelspec": {
      "name": "python3",
      "display_name": "Python 3"
    },
    "language_info": {
      "name": "python"
    }
  },
  "cells": [
    {
      "cell_type": "markdown",
      "metadata": {
        "id": "view-in-github",
        "colab_type": "text"
      },
      "source": [
        "<a href=\"https://colab.research.google.com/github/mak4x13/Machine-Learning/blob/main/Breast_Cancer_analysis_prediction_using_SGD.ipynb\" target=\"_parent\"><img src=\"https://colab.research.google.com/assets/colab-badge.svg\" alt=\"Open In Colab\"/></a>"
      ]
    },
    {
      "cell_type": "code",
      "execution_count": null,
      "metadata": {
        "id": "XKvunavuWVKe"
      },
      "outputs": [],
      "source": [
        "import pandas as pd\n",
        "import numpy as np\n",
        "import matplotlib.pyplot as plt\n",
        "import seaborn as sns\n",
        "from sklearn.model_selection import train_test_split\n",
        "from sklearn import datasets"
      ]
    },
    {
      "cell_type": "code",
      "source": [
        "bc = datasets.load_breast_cancer()\n",
        "df = pd.DataFrame(data=bc.data, columns=bc.feature_names)\n",
        "X = bc.data\n",
        "y = bc.target\n",
        "X_train, X_test, y_train, y_test = train_test_split(X, y, test_size=0.3, random_state=42, stratify=y)"
      ],
      "metadata": {
        "id": "dJ8hYf7udgtx"
      },
      "execution_count": null,
      "outputs": []
    },
    {
      "cell_type": "code",
      "source": [
        "class CustomPerceptron():\n",
        "\n",
        "  def __init__(self, n_iterations=100, random_state=1, learning_rate=0.01):\n",
        "    self.n_iterations = n_iterations\n",
        "    self.random_state = random_state\n",
        "    self.learning_rate = learning_rate\n",
        "\n",
        "\n",
        "  def fit(self, X, y):\n",
        "    rgen = np.random.RandomState(self.random_state)\n",
        "    self.coef_ = rgen.normal(loc=0.0, scale=0.01, size=1+ X.shape[1])\n",
        "    for _ in range(self.n_iterations):\n",
        "      for xi, expected_value in zip(X, y):\n",
        "        predicted_value = self.predict(xi)\n",
        "        self.coef_[1:] += self.learning_rate * (expected_value - predicted_value) * xi\n",
        "        self.coef_[0] +=  self.learning_rate * (expected_value - predicted_value) * 1\n",
        "\n",
        "  def activation(self,X):\n",
        "    return np.dot(X, self.coef_[1:]) + self.coef_[0]\n",
        "\n",
        "  def predict(self, X):\n",
        "    output = self.activation(X)\n",
        "    return np.where(output >=0.0, 1,0)\n",
        "\n",
        "  def score(self, X, y):\n",
        "    misclassified_data_count =0\n",
        "    for xi, target in zip(X,y):\n",
        "      output = self.predict(xi)\n",
        "      if target != output:\n",
        "        misclassified_data_count +=1\n",
        "\n",
        "    total_data_count = len(X)\n",
        "    self.score_ = (total_data_count - misclassified_data_count)/total_data_count\n",
        "    return self.score_\n",
        "\n"
      ],
      "metadata": {
        "id": "DiX7rISSeICo"
      },
      "execution_count": null,
      "outputs": []
    },
    {
      "cell_type": "code",
      "source": [
        "perceptron = CustomPerceptron()\n",
        "perceptron.fit(X_train, y_train)"
      ],
      "metadata": {
        "id": "bGWyUKhbkta8"
      },
      "execution_count": null,
      "outputs": []
    },
    {
      "cell_type": "code",
      "source": [
        "print(perceptron.score(X_test, y_test))\n",
        "print(perceptron.score(X_train, y_train))"
      ],
      "metadata": {
        "colab": {
          "base_uri": "https://localhost:8080/"
        },
        "id": "Hpy0ZheLl9HS",
        "outputId": "1e79dce2-124c-4787-c292-36cfdf7a1594"
      },
      "execution_count": null,
      "outputs": [
        {
          "output_type": "stream",
          "name": "stdout",
          "text": [
            "0.9064327485380117\n",
            "0.9296482412060302\n"
          ]
        }
      ]
    }
  ]
}