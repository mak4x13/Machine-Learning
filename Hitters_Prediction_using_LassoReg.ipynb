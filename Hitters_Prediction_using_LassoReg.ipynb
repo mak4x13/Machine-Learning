{
  "nbformat": 4,
  "nbformat_minor": 0,
  "metadata": {
    "colab": {
      "provenance": [],
      "mount_file_id": "1ujjHGFCvGJkZUbUFLsN7V-ZJIcsCfxKP",
      "authorship_tag": "ABX9TyM3AHmQ0WaKlEEyWmUrdoYW",
      "include_colab_link": true
    },
    "kernelspec": {
      "name": "python3",
      "display_name": "Python 3"
    },
    "language_info": {
      "name": "python"
    }
  },
  "cells": [
    {
      "cell_type": "markdown",
      "metadata": {
        "id": "view-in-github",
        "colab_type": "text"
      },
      "source": [
        "<a href=\"https://colab.research.google.com/github/mak4x13/Machine-Learning/blob/main/Hitters_Prediction_using_LassoReg.ipynb\" target=\"_parent\"><img src=\"https://colab.research.google.com/assets/colab-badge.svg\" alt=\"Open In Colab\"/></a>"
      ]
    },
    {
      "cell_type": "code",
      "execution_count": null,
      "metadata": {
        "id": "q5iR7v63Yj2t"
      },
      "outputs": [],
      "source": [
        "import numpy as np\n",
        "import pandas as pd\n",
        "import matplotlib.pyplot as plt\n",
        "from sklearn.metrics import mean_squared_error, r2_score\n",
        "from sklearn.linear_model import Lasso, LassoCV\n",
        "from sklearn.model_selection import train_test_split, cross_val_score"
      ]
    },
    {
      "cell_type": "code",
      "source": [
        "df = pd.read_csv('/content/drive/MyDrive/ML/Hitters.csv')"
      ],
      "metadata": {
        "id": "FPIq2ijeatCV"
      },
      "execution_count": null,
      "outputs": []
    },
    {
      "cell_type": "code",
      "source": [
        "df.info()"
      ],
      "metadata": {
        "colab": {
          "base_uri": "https://localhost:8080/"
        },
        "id": "pnXWYhA1bHSs",
        "outputId": "62d93361-80d3-4ff2-decc-32498eb76c39"
      },
      "execution_count": null,
      "outputs": [
        {
          "output_type": "stream",
          "name": "stdout",
          "text": [
            "<class 'pandas.core.frame.DataFrame'>\n",
            "RangeIndex: 322 entries, 0 to 321\n",
            "Data columns (total 21 columns):\n",
            " #   Column      Non-Null Count  Dtype  \n",
            "---  ------      --------------  -----  \n",
            " 0   Unnamed: 0  322 non-null    object \n",
            " 1   AtBat       322 non-null    int64  \n",
            " 2   Hits        322 non-null    int64  \n",
            " 3   HmRun       322 non-null    int64  \n",
            " 4   Runs        322 non-null    int64  \n",
            " 5   RBI         322 non-null    int64  \n",
            " 6   Walks       322 non-null    int64  \n",
            " 7   Years       322 non-null    int64  \n",
            " 8   CAtBat      322 non-null    int64  \n",
            " 9   CHits       322 non-null    int64  \n",
            " 10  CHmRun      322 non-null    int64  \n",
            " 11  CRuns       322 non-null    int64  \n",
            " 12  CRBI        322 non-null    int64  \n",
            " 13  CWalks      322 non-null    int64  \n",
            " 14  League      322 non-null    object \n",
            " 15  Division    322 non-null    object \n",
            " 16  PutOuts     322 non-null    int64  \n",
            " 17  Assists     322 non-null    int64  \n",
            " 18  Errors      322 non-null    int64  \n",
            " 19  Salary      263 non-null    float64\n",
            " 20  NewLeague   322 non-null    object \n",
            "dtypes: float64(1), int64(16), object(4)\n",
            "memory usage: 53.0+ KB\n"
          ]
        }
      ]
    },
    {
      "cell_type": "code",
      "source": [
        "df['Salary'].fillna(df['Salary'].median(skipna=True), inplace=True)\n",
        "df.isna().sum()"
      ],
      "metadata": {
        "colab": {
          "base_uri": "https://localhost:8080/",
          "height": 743
        },
        "id": "2EQWD14WbLmD",
        "outputId": "33656315-ec4f-4647-fd56-542b28a7d06a"
      },
      "execution_count": null,
      "outputs": [
        {
          "output_type": "execute_result",
          "data": {
            "text/plain": [
              "Unnamed: 0    0\n",
              "AtBat         0\n",
              "Hits          0\n",
              "HmRun         0\n",
              "Runs          0\n",
              "RBI           0\n",
              "Walks         0\n",
              "Years         0\n",
              "CAtBat        0\n",
              "CHits         0\n",
              "CHmRun        0\n",
              "CRuns         0\n",
              "CRBI          0\n",
              "CWalks        0\n",
              "League        0\n",
              "Division      0\n",
              "PutOuts       0\n",
              "Assists       0\n",
              "Errors        0\n",
              "Salary        0\n",
              "NewLeague     0\n",
              "dtype: int64"
            ],
            "text/html": [
              "<div>\n",
              "<style scoped>\n",
              "    .dataframe tbody tr th:only-of-type {\n",
              "        vertical-align: middle;\n",
              "    }\n",
              "\n",
              "    .dataframe tbody tr th {\n",
              "        vertical-align: top;\n",
              "    }\n",
              "\n",
              "    .dataframe thead th {\n",
              "        text-align: right;\n",
              "    }\n",
              "</style>\n",
              "<table border=\"1\" class=\"dataframe\">\n",
              "  <thead>\n",
              "    <tr style=\"text-align: right;\">\n",
              "      <th></th>\n",
              "      <th>0</th>\n",
              "    </tr>\n",
              "  </thead>\n",
              "  <tbody>\n",
              "    <tr>\n",
              "      <th>Unnamed: 0</th>\n",
              "      <td>0</td>\n",
              "    </tr>\n",
              "    <tr>\n",
              "      <th>AtBat</th>\n",
              "      <td>0</td>\n",
              "    </tr>\n",
              "    <tr>\n",
              "      <th>Hits</th>\n",
              "      <td>0</td>\n",
              "    </tr>\n",
              "    <tr>\n",
              "      <th>HmRun</th>\n",
              "      <td>0</td>\n",
              "    </tr>\n",
              "    <tr>\n",
              "      <th>Runs</th>\n",
              "      <td>0</td>\n",
              "    </tr>\n",
              "    <tr>\n",
              "      <th>RBI</th>\n",
              "      <td>0</td>\n",
              "    </tr>\n",
              "    <tr>\n",
              "      <th>Walks</th>\n",
              "      <td>0</td>\n",
              "    </tr>\n",
              "    <tr>\n",
              "      <th>Years</th>\n",
              "      <td>0</td>\n",
              "    </tr>\n",
              "    <tr>\n",
              "      <th>CAtBat</th>\n",
              "      <td>0</td>\n",
              "    </tr>\n",
              "    <tr>\n",
              "      <th>CHits</th>\n",
              "      <td>0</td>\n",
              "    </tr>\n",
              "    <tr>\n",
              "      <th>CHmRun</th>\n",
              "      <td>0</td>\n",
              "    </tr>\n",
              "    <tr>\n",
              "      <th>CRuns</th>\n",
              "      <td>0</td>\n",
              "    </tr>\n",
              "    <tr>\n",
              "      <th>CRBI</th>\n",
              "      <td>0</td>\n",
              "    </tr>\n",
              "    <tr>\n",
              "      <th>CWalks</th>\n",
              "      <td>0</td>\n",
              "    </tr>\n",
              "    <tr>\n",
              "      <th>League</th>\n",
              "      <td>0</td>\n",
              "    </tr>\n",
              "    <tr>\n",
              "      <th>Division</th>\n",
              "      <td>0</td>\n",
              "    </tr>\n",
              "    <tr>\n",
              "      <th>PutOuts</th>\n",
              "      <td>0</td>\n",
              "    </tr>\n",
              "    <tr>\n",
              "      <th>Assists</th>\n",
              "      <td>0</td>\n",
              "    </tr>\n",
              "    <tr>\n",
              "      <th>Errors</th>\n",
              "      <td>0</td>\n",
              "    </tr>\n",
              "    <tr>\n",
              "      <th>Salary</th>\n",
              "      <td>0</td>\n",
              "    </tr>\n",
              "    <tr>\n",
              "      <th>NewLeague</th>\n",
              "      <td>0</td>\n",
              "    </tr>\n",
              "  </tbody>\n",
              "</table>\n",
              "</div><br><label><b>dtype:</b> int64</label>"
            ]
          },
          "metadata": {},
          "execution_count": 5
        }
      ]
    },
    {
      "cell_type": "code",
      "source": [
        "# df['NewLeague'].value_counts().plot.barh()\n",
        "# df['League'].value_counts().plot.barh()\n",
        "# df[''Division].value_counts().plot.barh()\n",
        "# They all have two categories so we are converting them into single one"
      ],
      "metadata": {
        "colab": {
          "base_uri": "https://localhost:8080/",
          "height": 447
        },
        "id": "_suOzDDscL9_",
        "outputId": "f9843cec-fdcc-4c66-fda5-c428a0eb4e8e"
      },
      "execution_count": null,
      "outputs": [
        {
          "output_type": "execute_result",
          "data": {
            "text/plain": [
              "<Axes: ylabel='NewLeague'>"
            ]
          },
          "metadata": {},
          "execution_count": 13
        },
        {
          "output_type": "display_data",
          "data": {
            "text/plain": [
              "<Figure size 640x480 with 1 Axes>"
            ],
            "image/png": "[encoded data removed]"
          },
          "metadata": {}
        }
      ]
    },
    {
      "cell_type": "code",
      "source": [
        "dms = pd.get_dummies(df[['League', 'NewLeague', 'Division']], drop_first=True)"
      ],
      "metadata": {
        "id": "6QtiFMRYbbh2"
      },
      "execution_count": null,
      "outputs": []
    },
    {
      "cell_type": "code",
      "source": [
        "y = df['Salary']\n",
        "x_ = df.drop(['Unnamed: 0', 'Division', 'Salary', 'League', 'NewLeague'], axis=1)\n",
        "X = pd.concat([x_,dms[['League_N', 'Division_W', 'NewLeague_N']]], axis=1).astype('float64')"
      ],
      "metadata": {
        "id": "sPulincAc0SZ"
      },
      "execution_count": null,
      "outputs": []
    },
    {
      "cell_type": "code",
      "source": [
        "X_train, X_test, y_train, y_test = train_test_split(X, y, test_size=0.25, random_state=42)"
      ],
      "metadata": {
        "id": "-1OOS8U_gDzA"
      },
      "execution_count": null,
      "outputs": []
    },
    {
      "cell_type": "code",
      "source": [
        "lr = Lasso()\n",
        "model = lr.fit(X_train, y_train)\n",
        "model.intercept_"
      ],
      "metadata": {
        "colab": {
          "base_uri": "https://localhost:8080/"
        },
        "id": "07kr54FYf2eT",
        "outputId": "ad4cddc6-73ef-4e22-ef32-5954c91d7ce8"
      },
      "execution_count": null,
      "outputs": [
        {
          "output_type": "stream",
          "name": "stderr",
          "text": [
            "/usr/local/lib/python3.10/dist-packages/sklearn/linear_model/_coordinate_descent.py:628: ConvergenceWarning: Objective did not converge. You might want to increase the number of iterations, check the scale of the features or consider increasing regularisation. Duality gap: 9.923e+06, tolerance: 3.853e+03\n",
            "  model = cd_fast.enet_coordinate_descent(\n"
          ]
        },
        {
          "output_type": "execute_result",
          "data": {
            "text/plain": [
              "342.8733925858769"
            ]
          },
          "metadata": {},
          "execution_count": 23
        }
      ]
    },
    {
      "cell_type": "code",
      "source": [
        "model.coef_\n",
        "# It made some coefficients = 0"
      ],
      "metadata": {
        "colab": {
          "base_uri": "https://localhost:8080/"
        },
        "id": "tZfMAiflhpQw",
        "outputId": "250aed24-d298-434f-b584-429af3bfd3dd"
      },
      "execution_count": null,
      "outputs": [
        {
          "output_type": "execute_result",
          "data": {
            "text/plain": [
              "array([-1.98558949e+00,  5.50494749e+00,  4.79612807e+00,  1.02123896e-01,\n",
              "       -8.11521080e-01,  4.87004116e+00, -9.97808288e+00, -2.19391227e-01,\n",
              "        6.16237616e-01,  9.03214960e-03,  8.73990383e-01,  7.84172593e-01,\n",
              "       -8.13423037e-01,  1.83989460e-01,  4.04846687e-01, -4.08650952e+00,\n",
              "        2.67092023e+01, -1.11463261e+02, -0.00000000e+00])"
            ]
          },
          "metadata": {},
          "execution_count": 25
        }
      ]
    },
    {
      "cell_type": "code",
      "source": [
        "y_pred = model.predict(X_test)\n",
        "print(\"R2 score: \", r2_score(y_test, y_pred))\n",
        "print(\"RSME: \", np.sqrt(mean_squared_error(y_test, y_pred)))"
      ],
      "metadata": {
        "colab": {
          "base_uri": "https://localhost:8080/"
        },
        "id": "vVy9ecW9g2b6",
        "outputId": "47ad869d-63aa-49fe-a585-86a5cd2f17b9"
      },
      "execution_count": null,
      "outputs": [
        {
          "output_type": "stream",
          "name": "stdout",
          "text": [
            "R2 score:  0.3657513009571691\n",
            "RSME:  345.6190692407428\n"
          ]
        }
      ]
    },
    {
      "cell_type": "code",
      "source": [
        "# Tuning the hyperparameters to find best alpha/penalty value\n",
        "lasso_cv = LassoCV(alphas = np.random.randint(0, 1000, 100), cv=10, max_iter=10000, n_jobs=-1).fit(X_train, y_train)\n",
        "lasso_cv.alpha_\n"
      ],
      "metadata": {
        "colab": {
          "base_uri": "https://localhost:8080/"
        },
        "id": "fHbnjrRLhjDF",
        "outputId": "7d9545c4-9efb-4119-fa41-37744017e5a6"
      },
      "execution_count": null,
      "outputs": [
        {
          "output_type": "execute_result",
          "data": {
            "text/plain": [
              "13"
            ]
          },
          "metadata": {},
          "execution_count": 29
        }
      ]
    },
    {
      "cell_type": "code",
      "source": [
        "lasso_tuned = Lasso().set_params(alpha=13).fit(X_train, y_train)\n",
        "y_pred2 = lasso_tuned.predict(X_test)\n",
        "print(\"R2 score: \", r2_score(y_test, y_pred2))\n",
        "print(\"RSME: \", np.sqrt(mean_squared_error(y_test, y_pred2)))"
      ],
      "metadata": {
        "colab": {
          "base_uri": "https://localhost:8080/"
        },
        "id": "oqLUngG8i1gv",
        "outputId": "3ec73db6-186f-4668-cd67-b3ee3c6ddfa3"
      },
      "execution_count": null,
      "outputs": [
        {
          "output_type": "stream",
          "name": "stdout",
          "text": [
            "R2 score:  0.36250978777839105\n",
            "RSME:  346.50113724805675\n"
          ]
        },
        {
          "output_type": "stream",
          "name": "stderr",
          "text": [
            "/usr/local/lib/python3.10/dist-packages/sklearn/linear_model/_coordinate_descent.py:628: ConvergenceWarning: Objective did not converge. You might want to increase the number of iterations, check the scale of the features or consider increasing regularisation. Duality gap: 5.778e+06, tolerance: 3.853e+03\n",
            "  model = cd_fast.enet_coordinate_descent(\n"
          ]
        }
      ]
    },
    {
      "cell_type": "code",
      "source": [
        "lasso_tuned.coef_"
      ],
      "metadata": {
        "colab": {
          "base_uri": "https://localhost:8080/"
        },
        "id": "ntQxApjBjSng",
        "outputId": "01c8e86d-c26f-4bce-b265-f477feb9609b"
      },
      "execution_count": null,
      "outputs": [
        {
          "output_type": "execute_result",
          "data": {
            "text/plain": [
              "array([ -1.92562929,   5.14020174,   2.50214093,   0.28982709,\n",
              "        -0.        ,   4.82570033,  -4.41663022,  -0.25955104,\n",
              "         0.72758963,   0.1353273 ,   0.8602446 ,   0.7313746 ,\n",
              "        -0.78890368,   0.17900707,   0.38387235,  -2.71245175,\n",
              "         0.        , -59.87155254,   0.        ])"
            ]
          },
          "metadata": {},
          "execution_count": 31
        }
      ]
    }
  ]
}